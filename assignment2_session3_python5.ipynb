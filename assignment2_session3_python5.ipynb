{
 "cells": [
  {
   "cell_type": "markdown",
   "metadata": {},
   "source": [
    "1. Write a function to compute 5/0 and use try/except to catch the exceptions."
   ]
  },
  {
   "cell_type": "code",
   "execution_count": 1,
   "metadata": {},
   "outputs": [
    {
     "name": "stdout",
     "output_type": "stream",
     "text": [
      "division by zero!\n",
      "In finally block for cleanup\n",
      "0\n"
     ]
    }
   ],
   "source": [
    "#Soln\n",
    "def catchException():\n",
    "    result = 0\n",
    "    try:\n",
    "        result = 5/0\n",
    "    except ZeroDivisionError:\n",
    "        print (\"division by zero!\")\n",
    "    except Exception:\n",
    "        print ('Caught an exception')\n",
    "    finally:\n",
    "        print ('In finally block for cleanup')\n",
    "    return result\n",
    "print (catchException())"
   ]
  },
  {
   "cell_type": "markdown",
   "metadata": {},
   "source": [
    "#output\n",
    "division by zero!\n",
    "In finally block for cleanup\n",
    "0"
   ]
  },
  {
   "cell_type": "markdown",
   "metadata": {},
   "source": [
    "2. Implement a Python program to generate all sentences where subject is in [\"Americans\",\n",
    "\"Indians\"] and verb is in [\"Play\", \"watch\"] and the object is in [\"Baseball\",\"cricket\"].\n",
    "Hint: Subject,Verb and Object should be declared in the program as shown below.\n",
    "subjects=[\"Americans \",\"Indians\"]\n",
    "verbs=[\"play\",\"watch\"]\n",
    "objects=[\"Baseball\",\"Cricket\"]"
   ]
  },
  {
   "cell_type": "code",
   "execution_count": 2,
   "metadata": {},
   "outputs": [
    {
     "name": "stdout",
     "output_type": "stream",
     "text": [
      "Americans Play Baseball\n",
      "Americans Play cricket\n",
      "Americans watch Baseball\n",
      "Americans watch cricket\n",
      "Indians Play Baseball\n",
      "Indians Play cricket\n",
      "Indians watch Baseball\n",
      "Indians watch cricket\n"
     ]
    }
   ],
   "source": [
    "def generateSentence():\n",
    "    subject=[\"Americans\", \"Indians\"]\n",
    "    verb=[\"Play\", \"watch\"]\n",
    "    obj=[\"Baseball\",\"cricket\"]\n",
    "    sentence_list = []\n",
    "    for sub in subject:\n",
    "        for vb in verb:\n",
    "            for ob in obj:\n",
    "                sentence_list.append(sub+\" \"+ vb + \" \" + ob)\n",
    "    for sentence in sentence_list:\n",
    "        print (sentence)\n",
    "generateSentence()"
   ]
  },
  {
   "cell_type": "code",
   "execution_count": null,
   "metadata": {},
   "outputs": [],
   "source": []
  },
  {
   "cell_type": "code",
   "execution_count": null,
   "metadata": {},
   "outputs": [],
   "source": []
  },
  {
   "cell_type": "code",
   "execution_count": null,
   "metadata": {},
   "outputs": [],
   "source": []
  }
 ],
 "metadata": {
  "kernelspec": {
   "display_name": "Python 3",
   "language": "python",
   "name": "python3"
  },
  "language_info": {
   "codemirror_mode": {
    "name": "ipython",
    "version": 3
   },
   "file_extension": ".py",
   "mimetype": "text/x-python",
   "name": "python",
   "nbconvert_exporter": "python",
   "pygments_lexer": "ipython3",
   "version": "3.6.4"
  }
 },
 "nbformat": 4,
 "nbformat_minor": 2
}
